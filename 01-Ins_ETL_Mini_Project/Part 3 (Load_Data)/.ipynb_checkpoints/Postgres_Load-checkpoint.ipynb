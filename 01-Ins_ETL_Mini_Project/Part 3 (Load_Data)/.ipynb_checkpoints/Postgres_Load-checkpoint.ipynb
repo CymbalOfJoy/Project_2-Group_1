{
 "cells": [
  {
   "cell_type": "code",
   "execution_count": 7,
   "id": "6ad70535-90a0-4421-8ab3-0cf077ff66bf",
   "metadata": {},
   "outputs": [],
   "source": [
    "# Import the dependencies\n",
    "import pandas as pd\n",
    "import numpy as np\n",
    "import datetime\n",
    "\n",
    "# Plotting\n",
    "import matplotlib.pyplot as plt\n",
    "import seaborn as sns\n",
    "\n",
    "# ORM Stuff\n",
    "from sqlalchemy import create_engine, inspect, text, func\n",
    "from sqlalchemy.orm import Session\n",
    "from sqlalchemy.ext.automap import automap_base"
   ]
  },
  {
   "cell_type": "code",
   "execution_count": 8,
   "id": "c94f9595-2ae5-4889-a5ab-692e90c969e2",
   "metadata": {},
   "outputs": [],
   "source": [
    "# CONNECT TO POSTGRES\n",
    "USERNAME = \"postgres\"\n",
    "PASSWORD = \"postgres\"\n",
    "HOST = \"localhost\"\n",
    "PORT = 5432\n",
    "DATABASE = \"crowdfunding_db\"\n",
    "connection_str = f\"postgresql://{USERNAME}:{PASSWORD}@{HOST}:{PORT}/{DATABASE}\"\n",
    "\n",
    "# Create Engine\n",
    "engine = create_engine(connection_str)"
   ]
  },
  {
   "cell_type": "code",
   "execution_count": 9,
   "id": "f8f7c143-8899-4207-9897-22fcdc92f930",
   "metadata": {},
   "outputs": [
    {
     "name": "stdout",
     "output_type": "stream",
     "text": [
      "Contacts\n",
      "--------\n",
      "contact_id INTEGER\n",
      "first_name VARCHAR(50)\n",
      "last_name VARCHAR(50)\n",
      "email VARCHAR(50)\n",
      "last_update TIMESTAMP\n",
      "\n",
      "Campaign\n",
      "--------\n",
      "cf_id INTEGER\n",
      "contact_id INTEGER\n",
      "company_name VARCHAR(100)\n",
      "description VARCHAR(300)\n",
      "goal DOUBLE PRECISION\n",
      "pledged DOUBLE PRECISION\n",
      "outcome VARCHAR(100)\n",
      "backers_count INTEGER\n",
      "country VARCHAR(20)\n",
      "currency VARCHAR(20)\n",
      "launch_date DATE\n",
      "end_date DATE\n",
      "category_id VARCHAR(20)\n",
      "subcategory_id VARCHAR(20)\n",
      "last_update TIMESTAMP\n",
      "\n",
      "Category\n",
      "--------\n",
      "category_id VARCHAR(20)\n",
      "category VARCHAR(30)\n",
      "last_update TIMESTAMP\n",
      "\n",
      "Subcategory\n",
      "--------\n",
      "subcategory_id VARCHAR(20)\n",
      "subcategory VARCHAR(30)\n",
      "last_update TIMESTAMP\n",
      "\n"
     ]
    }
   ],
   "source": [
    "# Create the inspector and connect it to the engine\n",
    "inspector = inspect(engine)\n",
    "\n",
    "# Collect the names of tables within the database\n",
    "tables = inspector.get_table_names()\n",
    "\n",
    "# Using the inspector to print the column names within the 'dow' table and its types\n",
    "for table in tables:\n",
    "    print(table)\n",
    "    print(\"--------\")\n",
    "    columns = inspector.get_columns(table)\n",
    "    for column in columns:\n",
    "        print(column[\"name\"], column[\"type\"])\n",
    "\n",
    "    print()"
   ]
  },
  {
   "cell_type": "code",
   "execution_count": 10,
   "id": "2ac9845a-e9ba-4404-b9a3-c869d53e5774",
   "metadata": {},
   "outputs": [
    {
     "data": {
      "text/plain": [
       "1000"
      ]
     },
     "execution_count": 10,
     "metadata": {},
     "output_type": "execute_result"
    }
   ],
   "source": [
    "# ORDER MATTERS. Campaign, Contacts, Category, Subcategory\n",
    "df = pd.read_csv(\"Output_Data/campaign.csv\")\n",
    "\n",
    "# Write to SQL (NOTE I AM USING con=engine) THIS IS WHAT WORKS APPARENTLY WHEN WRITING OUT DATA\n",
    "df.to_sql(name=\"campaign\", con=engine, index=False, if_exists=\"append\", method=\"multi\")"
   ]
  },
  {
   "cell_type": "code",
   "execution_count": 11,
   "id": "ca6644c0-54bd-476f-850c-d635b2db2b1b",
   "metadata": {},
   "outputs": [
    {
     "data": {
      "text/plain": [
       "1000"
      ]
     },
     "execution_count": 11,
     "metadata": {},
     "output_type": "execute_result"
    }
   ],
   "source": [
    "# ORDER MATTERS. Campaign, Contacts, Category, Subcategory\n",
    "df = pd.read_csv(\"Output_Data/contacts.csv\")\n",
    "\n",
    "# Write to SQL (NOTE I AM USING con=engine) THIS IS WHAT WORKS APPARENTLY WHEN WRITING OUT DATA\n",
    "df.to_sql(name=\"contacts\", con=engine, index=False, if_exists=\"append\", method=\"multi\")"
   ]
  },
  {
   "cell_type": "code",
   "execution_count": 12,
   "id": "3b912e6a-1203-42d8-9c1b-276f094dc44b",
   "metadata": {},
   "outputs": [
    {
     "data": {
      "text/plain": [
       "9"
      ]
     },
     "execution_count": 12,
     "metadata": {},
     "output_type": "execute_result"
    }
   ],
   "source": [
    "# ORDER MATTERS. Campaign, Contacts, Category, Subcategory\n",
    "df = pd.read_csv(\"Output_Data/category.csv\")\n",
    "\n",
    "# Write to SQL (NOTE I AM USING con=engine) THIS IS WHAT WORKS APPARENTLY WHEN WRITING OUT DATA\n",
    "df.to_sql(name=\"category\", con=engine, index=False, if_exists=\"append\", method=\"multi\")"
   ]
  },
  {
   "cell_type": "code",
   "execution_count": 13,
   "id": "72a498fb-b335-4769-b074-6f20eb6f8049",
   "metadata": {},
   "outputs": [
    {
     "data": {
      "text/plain": [
       "24"
      ]
     },
     "execution_count": 13,
     "metadata": {},
     "output_type": "execute_result"
    }
   ],
   "source": [
    "# ORDER MATTERS. Campaign, Contacts, Category, Subcategory\n",
    "df = pd.read_csv(\"Output_Data/subcategory.csv\")\n",
    "\n",
    "# Write to SQL (NOTE I AM USING con=engine) THIS IS WHAT WORKS APPARENTLY WHEN WRITING OUT DATA\n",
    "df.to_sql(name=\"subcategory\", con=engine, index=False, if_exists=\"append\", method=\"multi\")"
   ]
  },
  {
   "cell_type": "code",
   "execution_count": 14,
   "id": "76e8f2ee-639f-4420-8cf6-6f3c6c2e18ba",
   "metadata": {},
   "outputs": [],
   "source": [
    "conn = engine.connect()"
   ]
  },
  {
   "cell_type": "code",
   "execution_count": null,
   "id": "b781bab1-26bc-4449-98a5-34380f80eb47",
   "metadata": {},
   "outputs": [],
   "source": []
  }
 ],
 "metadata": {
  "kernelspec": {
   "display_name": "Python 3 (ipykernel)",
   "language": "python",
   "name": "python3"
  },
  "language_info": {
   "codemirror_mode": {
    "name": "ipython",
    "version": 3
   },
   "file_extension": ".py",
   "mimetype": "text/x-python",
   "name": "python",
   "nbconvert_exporter": "python",
   "pygments_lexer": "ipython3",
   "version": "3.10.15"
  }
 },
 "nbformat": 4,
 "nbformat_minor": 5
}
